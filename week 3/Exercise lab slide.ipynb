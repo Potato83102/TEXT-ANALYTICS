{
 "cells": [
  {
   "cell_type": "code",
   "execution_count": 1,
   "id": "345f5e3f-8c26-486c-8035-478c14307e58",
   "metadata": {
    "tags": []
   },
   "outputs": [],
   "source": [
    "import requests"
   ]
  },
  {
   "cell_type": "code",
   "execution_count": 2,
   "id": "2e915fdf-8470-426b-a7e8-962d4199237c",
   "metadata": {
    "tags": []
   },
   "outputs": [],
   "source": [
    "page = requests.get(\"https://dataquestio.github.io/web-scraping-pages/simple.html\")"
   ]
  },
  {
   "cell_type": "code",
   "execution_count": 3,
   "id": "4075c408-1c27-4a93-8711-4bb7aa5fbc65",
   "metadata": {
    "tags": []
   },
   "outputs": [
    {
     "ename": "SyntaxError",
     "evalue": "unterminated string literal (detected at line 1) (3698877460.py, line 1)",
     "output_type": "error",
     "traceback": [
      "\u001b[1;36m  Cell \u001b[1;32mIn[3], line 1\u001b[1;36m\u001b[0m\n\u001b[1;33m    \"page\u001b[0m\n\u001b[1;37m    ^\u001b[0m\n\u001b[1;31mSyntaxError\u001b[0m\u001b[1;31m:\u001b[0m unterminated string literal (detected at line 1)\n"
     ]
    }
   ],
   "source": [
    "\"page"
   ]
  },
  {
   "cell_type": "code",
   "execution_count": 4,
   "id": "bd631a0d-4f2b-4802-b212-4a81a4e4d8aa",
   "metadata": {
    "tags": []
   },
   "outputs": [
    {
     "data": {
      "text/plain": [
       "<Response [200]>"
      ]
     },
     "execution_count": 4,
     "metadata": {},
     "output_type": "execute_result"
    }
   ],
   "source": [
    "page"
   ]
  },
  {
   "cell_type": "code",
   "execution_count": 5,
   "id": "4f9d379c-eb82-45e4-9c27-6ed31cb24ee0",
   "metadata": {
    "tags": []
   },
   "outputs": [],
   "source": [
    "from bs4 import BeautifulSoup"
   ]
  },
  {
   "cell_type": "code",
   "execution_count": 6,
   "id": "f7ba674c-462f-455d-bd5f-b460ce30b27c",
   "metadata": {
    "tags": []
   },
   "outputs": [],
   "source": [
    "soup = BeautifulSoup(page.content, 'html.parser')"
   ]
  },
  {
   "cell_type": "code",
   "execution_count": 7,
   "id": "09c608b9-9e11-48c1-9401-9185c7fd540b",
   "metadata": {
    "tags": []
   },
   "outputs": [
    {
     "data": {
      "text/plain": [
       "<!DOCTYPE html>\n",
       "\n",
       "<html>\n",
       "<head>\n",
       "<title>A simple example page</title>\n",
       "</head>\n",
       "<body>\n",
       "<p>Here is some simple content for this page.</p>\n",
       "</body>\n",
       "</html>"
      ]
     },
     "execution_count": 7,
     "metadata": {},
     "output_type": "execute_result"
    }
   ],
   "source": [
    "soup"
   ]
  },
  {
   "cell_type": "code",
   "execution_count": 8,
   "id": "4d7c6203-43f5-4dea-a5aa-6511169511b8",
   "metadata": {
    "tags": []
   },
   "outputs": [
    {
     "data": {
      "text/plain": [
       "['html',\n",
       " '\\n',\n",
       " <html>\n",
       " <head>\n",
       " <title>A simple example page</title>\n",
       " </head>\n",
       " <body>\n",
       " <p>Here is some simple content for this page.</p>\n",
       " </body>\n",
       " </html>]"
      ]
     },
     "execution_count": 8,
     "metadata": {},
     "output_type": "execute_result"
    }
   ],
   "source": [
    "list(soup.children)"
   ]
  },
  {
   "cell_type": "code",
   "execution_count": 9,
   "id": "6ce772fc-872a-45bf-99d9-ab5028b41fc3",
   "metadata": {
    "tags": []
   },
   "outputs": [],
   "source": [
    "html = list(soup.children)[2]"
   ]
  },
  {
   "cell_type": "code",
   "execution_count": 10,
   "id": "2ba34d27-90cc-4824-8f91-4890570880d4",
   "metadata": {
    "tags": []
   },
   "outputs": [],
   "source": [
    "content = soup.find('p').get_text()"
   ]
  },
  {
   "cell_type": "code",
   "execution_count": 11,
   "id": "97c666de-e3fe-40db-bd89-7b6fc653d200",
   "metadata": {
    "tags": []
   },
   "outputs": [
    {
     "name": "stdout",
     "output_type": "stream",
     "text": [
      "Extracted Content: Here is some simple content for this page.\n"
     ]
    }
   ],
   "source": [
    "print(\"Extracted Content:\", content)"
   ]
  },
  {
   "cell_type": "code",
   "execution_count": 12,
   "id": "b0358e60-fe17-47d1-8f55-90f6565378da",
   "metadata": {
    "tags": []
   },
   "outputs": [],
   "source": [
    "content = soup.find('title').get_text()"
   ]
  },
  {
   "cell_type": "code",
   "execution_count": 13,
   "id": "faa23735-4623-4837-abf9-40fa69548898",
   "metadata": {
    "tags": []
   },
   "outputs": [
    {
     "name": "stdout",
     "output_type": "stream",
     "text": [
      "Example Extracted Content: A simple example page\n"
     ]
    }
   ],
   "source": [
    "print(\"Example Extracted Content:\", content)"
   ]
  },
  {
   "cell_type": "code",
   "execution_count": 14,
   "id": "3c5d2a38-4e87-497d-8f0d-f6965385af02",
   "metadata": {
    "tags": []
   },
   "outputs": [],
   "source": [
    "with open(\"extracted_data.txt\",\"w\") as file:\n",
    "    file.write(content)"
   ]
  },
  {
   "cell_type": "code",
   "execution_count": 15,
   "id": "b3d4defd-e876-4abb-8550-4043f2de5c19",
   "metadata": {
    "tags": []
   },
   "outputs": [],
   "source": [
    "content = soup.find('title').get_text()"
   ]
  },
  {
   "cell_type": "code",
   "execution_count": 16,
   "id": "9ae866b6-63bb-42ef-9a99-f0c163ef7c28",
   "metadata": {
    "tags": []
   },
   "outputs": [
    {
     "data": {
      "text/plain": [
       "'A simple example page'"
      ]
     },
     "execution_count": 16,
     "metadata": {},
     "output_type": "execute_result"
    }
   ],
   "source": [
    "content"
   ]
  },
  {
   "cell_type": "code",
   "execution_count": 17,
   "id": "edb6d335-af14-4018-9998-0de7c14d366b",
   "metadata": {
    "tags": []
   },
   "outputs": [],
   "source": [
    "content1 = soup.find('p').get_text()"
   ]
  },
  {
   "cell_type": "code",
   "execution_count": 18,
   "id": "2cc2f990-1738-480a-bc3c-73b517536652",
   "metadata": {
    "tags": []
   },
   "outputs": [
    {
     "data": {
      "text/plain": [
       "'Here is some simple content for this page.'"
      ]
     },
     "execution_count": 18,
     "metadata": {},
     "output_type": "execute_result"
    }
   ],
   "source": [
    "content1"
   ]
  },
  {
   "cell_type": "code",
   "execution_count": 19,
   "id": "41dc29cf-dc92-4367-a020-94c71adf41d5",
   "metadata": {
    "tags": []
   },
   "outputs": [],
   "source": [
    "with open(\"extracted_data.txt\",\"w\") as file:\n",
    "    file.write(content1)"
   ]
  },
  {
   "cell_type": "code",
   "execution_count": 20,
   "id": "8fb4d837-fbd9-4979-ba56-bacb48612c81",
   "metadata": {
    "tags": []
   },
   "outputs": [],
   "source": [
    "with open(\"extracted_data1.txt\",\"w\") as file:\n",
    "    file.write(content1)"
   ]
  },
  {
   "cell_type": "code",
   "execution_count": null,
   "id": "8c12d5ea-9831-45c7-9fd2-ddd27362a384",
   "metadata": {},
   "outputs": [],
   "source": []
  }
 ],
 "metadata": {
  "kernelspec": {
   "display_name": "Python 3 (ipykernel)",
   "language": "python",
   "name": "python3"
  },
  "language_info": {
   "codemirror_mode": {
    "name": "ipython",
    "version": 3
   },
   "file_extension": ".py",
   "mimetype": "text/x-python",
   "name": "python",
   "nbconvert_exporter": "python",
   "pygments_lexer": "ipython3",
   "version": "3.11.5"
  }
 },
 "nbformat": 4,
 "nbformat_minor": 5
}
