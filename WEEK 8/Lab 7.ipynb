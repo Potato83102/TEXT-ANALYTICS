{
 "cells": [
  {
   "cell_type": "code",
   "execution_count": 1,
   "id": "a54039bd-0dcd-45c5-b726-e8418ba39d47",
   "metadata": {
    "tags": []
   },
   "outputs": [
    {
     "name": "stdout",
     "output_type": "stream",
     "text": [
      "Requirement already satisfied: vaderSentiment in c:\\users\\norar\\anaconda3\\lib\\site-packages (3.3.2)\n",
      "Requirement already satisfied: requests in c:\\users\\norar\\anaconda3\\lib\\site-packages (from vaderSentiment) (2.31.0)\n",
      "Requirement already satisfied: charset-normalizer<4,>=2 in c:\\users\\norar\\anaconda3\\lib\\site-packages (from requests->vaderSentiment) (2.0.4)\n",
      "Requirement already satisfied: idna<4,>=2.5 in c:\\users\\norar\\anaconda3\\lib\\site-packages (from requests->vaderSentiment) (3.4)\n",
      "Requirement already satisfied: urllib3<3,>=1.21.1 in c:\\users\\norar\\anaconda3\\lib\\site-packages (from requests->vaderSentiment) (1.26.16)\n",
      "Requirement already satisfied: certifi>=2017.4.17 in c:\\users\\norar\\anaconda3\\lib\\site-packages (from requests->vaderSentiment) (2024.2.2)\n",
      "Note: you may need to restart the kernel to use updated packages.\n"
     ]
    }
   ],
   "source": [
    "pip install vaderSentiment"
   ]
  },
  {
   "cell_type": "code",
   "execution_count": 2,
   "id": "7dd99d1b-5548-4cd2-9764-30a9caa5b16f",
   "metadata": {
    "tags": []
   },
   "outputs": [
    {
     "name": "stdout",
     "output_type": "stream",
     "text": [
      "Requirement already satisfied: textblob in c:\\users\\norar\\anaconda3\\lib\\site-packages (0.18.0.post0)\n",
      "Requirement already satisfied: nltk>=3.8 in c:\\users\\norar\\anaconda3\\lib\\site-packages (from textblob) (3.8.1)\n",
      "Requirement already satisfied: click in c:\\users\\norar\\anaconda3\\lib\\site-packages (from nltk>=3.8->textblob) (8.0.4)\n",
      "Requirement already satisfied: joblib in c:\\users\\norar\\anaconda3\\lib\\site-packages (from nltk>=3.8->textblob) (1.2.0)\n",
      "Requirement already satisfied: regex>=2021.8.3 in c:\\users\\norar\\anaconda3\\lib\\site-packages (from nltk>=3.8->textblob) (2022.7.9)\n",
      "Requirement already satisfied: tqdm in c:\\users\\norar\\anaconda3\\lib\\site-packages (from nltk>=3.8->textblob) (4.65.0)\n",
      "Requirement already satisfied: colorama in c:\\users\\norar\\anaconda3\\lib\\site-packages (from click->nltk>=3.8->textblob) (0.4.6)\n",
      "Note: you may need to restart the kernel to use updated packages.\n"
     ]
    }
   ],
   "source": [
    "pip install -U textblob"
   ]
  },
  {
   "cell_type": "code",
   "execution_count": 3,
   "id": "73209e71-4c1f-47ae-bd2a-96cae97acdcd",
   "metadata": {
    "tags": []
   },
   "outputs": [],
   "source": [
    "from textblob import TextBlob\n",
    "from vaderSentiment.vaderSentiment import SentimentIntensityAnalyzer\n",
    "from tabulate import tabulate"
   ]
  },
  {
   "cell_type": "code",
   "execution_count": 4,
   "id": "47c3e130-3f26-4326-a295-eebfdd43cb6b",
   "metadata": {
    "tags": []
   },
   "outputs": [],
   "source": [
    "data = [\n",
    "    (\"I love this product, it's amazing!\", 'positive'),\n",
    "    (\"This product is terrible, I hate it.\", 'negative'),\n",
    "    (\"It's okay, not bad but not great either.\", 'neutral'),\n",
    "    (\"Best product ever, highly recommended!\", 'positive'),\n",
    "    (\"I'm really disappointed with the quality.\", 'negative'),\n",
    "    (\"So-so product, nothing special about it.\", 'neutral'),\n",
    "    (\"The customer service was excellent!\", 'positive'),\n",
    "    (\"I wasted my money on this useless product.\", 'negative'),\n",
    "    (\"It's not the worst, but certainly not the best.\", 'neutral'),\n",
    "    (\"I can't live without this product, it's a lifesaver!\", 'positive'),\n",
    "    (\"The product arrived damaged and unusable.\", 'negative'),\n",
    "    (\"It's average, neither good nor bad.\", 'neutral'),\n",
    "    (\"Highly disappointed with the purchase.\", 'negative'),\n",
    "    (\"The product exceeded my expectations.\", 'positive'),\n",
    "    (\"It's just okay, nothing extraordinary.\", 'neutral'),\n",
    "    (\"This product is excellent, it exceeded all my expectations!\", 'positive'),\n",
    "    (\"I regret purchasing this product, it's a waste of money.\", 'negative'),\n",
    "    (\"It's neither good nor bad, just average.\", 'neutral'),\n",
    "    (\"Outstanding customer service, highly recommended!\", 'positive'),\n",
    "    (\"I'm very disappointed with the quality of this item.\", 'negative'),\n",
    "    (\"It's not the best product, but it gets the job done.\", 'neutral'),\n",
    "    (\"This product is a game-changer, I can't imagine life without it!\", 'positive'),\n",
    "    (\"I received a defective product, very dissatisfied.\", 'negative'),\n",
    "    (\"It's neither great nor terrible, just okay.\", 'neutral'),\n",
    "    (\"Fantastic product, I would buy it again in a heartbeat!\", 'positive'),\n",
    "    (\"Avoid this product at all costs, complete waste of money.\", 'negative'),\n",
    "    (\"It's decent, but nothing extraordinary.\", 'neutral'),\n",
    "    (\"Impressive quality, exceeded my expectations!\", 'positive'),\n",
    "    (\"I'm very unhappy with this purchase, total disappointment.\", 'negative'),\n",
    "    (\"It's neither amazing nor terrible, somewhere in between.\", 'neutral')\n",
    "]"
   ]
  },
  {
   "cell_type": "code",
   "execution_count": 5,
   "id": "81aa582e-333a-468a-b03a-f81be0638380",
   "metadata": {
    "tags": []
   },
   "outputs": [],
   "source": [
    "table_data = [[\"Text\", \"Actual Label\", \"TextBlob Polarity\", \"TextBlob Sentiment\", \"VADER Compound\", \"VADER Sentiment\"]]"
   ]
  },
  {
   "cell_type": "code",
   "execution_count": 6,
   "id": "21504971-3bfe-4de3-b71e-553b4a1d276b",
   "metadata": {
    "tags": []
   },
   "outputs": [
    {
     "ename": "IndentationError",
     "evalue": "expected an indented block after 'for' statement on line 1 (3028546278.py, line 3)",
     "output_type": "error",
     "traceback": [
      "\u001b[1;36m  Cell \u001b[1;32mIn[6], line 3\u001b[1;36m\u001b[0m\n\u001b[1;33m    blob = TextBlob(text)\u001b[0m\n\u001b[1;37m    ^\u001b[0m\n\u001b[1;31mIndentationError\u001b[0m\u001b[1;31m:\u001b[0m expected an indented block after 'for' statement on line 1\n"
     ]
    }
   ],
   "source": [
    "for text, actual_label in data:\n",
    "    # TextBlob\n",
    "blob = TextBlob(text)\n",
    "    tb_polarity = blob.sentiment.polarity\n",
    "    \n",
    "    # Determine label based on polarity score from TextBlob\n",
    "    if tb_polarity > 0:\n",
    "        tb_label = 'positive'\n",
    "    elif tb_polarity < 0:\n",
    "        tb_label = 'negative'\n",
    "    else:\n",
    "        tb_label = 'neutral'\n",
    "\n",
    "    # VADER\n",
    "    analyzer = SentimentIntensityAnalyzer()\n",
    "    vs = analyzer.polarity_scores(text)\n",
    "    vader_compound = vs['compound']\n",
    "\n",
    "    # Determine label based on compound score from VADER\n",
    "    if vader_compound > 0.05:\n",
    "        vader_label = 'positive'\n",
    "    elif vader_compound < -0.05:\n",
    "        vader_label = 'negative'\n",
    "    else:\n",
    "        vader_label = 'neutral'\n",
    "\n",
    "    table_data.append([text, actual_label, tb_polarity, tb_label, vader_compound, vader_label])"
   ]
  },
  {
   "cell_type": "code",
   "execution_count": 7,
   "id": "114e54e9-a0bc-494c-bd3f-bada41749893",
   "metadata": {
    "tags": []
   },
   "outputs": [],
   "source": [
    "for text, actual_label in data:\n",
    "    # TextBlob\n",
    "    blob = TextBlob(text)\n",
    "    tb_polarity = blob.sentiment.polarity\n",
    "    \n",
    "    # Determine label based on polarity score from TextBlob\n",
    "    if tb_polarity > 0:\n",
    "        tb_label = 'positive'\n",
    "    elif tb_polarity < 0:\n",
    "        tb_label = 'negative'\n",
    "    else:\n",
    "        tb_label = 'neutral'\n",
    "\n",
    "    # VADER\n",
    "    analyzer = SentimentIntensityAnalyzer()\n",
    "    vs = analyzer.polarity_scores(text)\n",
    "    vader_compound = vs['compound']\n",
    "\n",
    "    # Determine label based on compound score from VADER\n",
    "    if vader_compound > 0.05:\n",
    "        vader_label = 'positive'\n",
    "    elif vader_compound < -0.05:\n",
    "        vader_label = 'negative'\n",
    "    else:\n",
    "        vader_label = 'neutral'\n",
    "\n",
    "    table_data.append([text, actual_label, tb_polarity, tb_label, vader_compound, vader_label])"
   ]
  },
  {
   "cell_type": "code",
   "execution_count": 8,
   "id": "22120ee3-907c-47d8-918e-87cb60dc4c72",
   "metadata": {
    "tags": []
   },
   "outputs": [
    {
     "name": "stdout",
     "output_type": "stream",
     "text": [
      "Text                                                              Actual Label      TextBlob Polarity  TextBlob Sentiment      VADER Compound  VADER Sentiment\n",
      "I love this product, it's amazing!                                positive                  0.625      positive                        0.8516  positive\n",
      "This product is terrible, I hate it.                              negative                 -0.9        negative                       -0.7783  negative\n",
      "It's okay, not bad but not great either.                          neutral                   0.15       positive                       -0.4707  negative\n",
      "Best product ever, highly recommended!                            positive                  0.6        positive                        0.7639  positive\n",
      "I'm really disappointed with the quality.                         negative                 -0.75       negative                       -0.5256  negative\n",
      "So-so product, nothing special about it.                          neutral                   0.357143   positive                       -0.3089  negative\n",
      "The customer service was excellent!                               positive                  1          positive                        0.6114  positive\n",
      "I wasted my money on this useless product.                        negative                 -0.35       negative                       -0.7543  negative\n",
      "It's not the worst, but certainly not the best.                   neutral                  -0.0357143  negative                       -0.0785  negative\n",
      "I can't live without this product, it's a lifesaver!              positive                  0.170455   positive                        0.6239  positive\n",
      "The product arrived damaged and unusable.                         negative                  0          neutral                        -0.4404  negative\n",
      "It's average, neither good nor bad.                               neutral                  -0.05       negative                       -0.5824  negative\n",
      "Highly disappointed with the purchase.                            negative                 -0.75       negative                       -0.5256  negative\n",
      "The product exceeded my expectations.                             positive                  0          neutral                         0       neutral\n",
      "It's just okay, nothing extraordinary.                            neutral                   0.416667   positive                        0.2263  positive\n",
      "This product is excellent, it exceeded all my expectations!       positive                  1          positive                        0.6114  positive\n",
      "I regret purchasing this product, it's a waste of money.          negative                 -0.2        negative                       -0.6808  negative\n",
      "It's neither good nor bad, just average.                          neutral                  -0.05       negative                       -0.5824  negative\n",
      "Outstanding customer service, highly recommended!                 positive                  0.35       positive                        0.7495  positive\n",
      "I'm very disappointed with the quality of this item.              negative                 -0.975      negative                       -0.5256  negative\n",
      "It's not the best product, but it gets the job done.              neutral                   1          positive                       -0.2924  negative\n",
      "This product is a game-changer, I can't imagine life without it!  positive                  0          neutral                         0       neutral\n",
      "I received a defective product, very dissatisfied.                negative                  0.2        positive                       -0.6997  negative\n",
      "It's neither great nor terrible, just okay.                       neutral                   0.1        positive                       -0.7278  negative\n",
      "Fantastic product, I would buy it again in a heartbeat!           positive                  0.5        positive                        0.5983  positive\n",
      "Avoid this product at all costs, complete waste of money.         negative                 -0.05       negative                       -0.6124  negative\n",
      "It's decent, but nothing extraordinary.                           neutral                   0.25       positive                        0       neutral\n",
      "Impressive quality, exceeded my expectations!                     positive                  1          positive                        0.5562  positive\n",
      "I'm very unhappy with this purchase, total disappointment.        negative                 -0.46       negative                       -0.7708  negative\n",
      "It's neither amazing nor terrible, somewhere in between.          neutral                  -0.2        negative                       -0.6395  negative\n"
     ]
    }
   ],
   "source": [
    "print(tabulate(table_data, headers=\"firstrow\", tablefmt=\"plain\"))"
   ]
  },
  {
   "cell_type": "code",
   "execution_count": null,
   "id": "7e331804-3e49-4e75-b425-9c862542f7c5",
   "metadata": {},
   "outputs": [],
   "source": []
  }
 ],
 "metadata": {
  "kernelspec": {
   "display_name": "Python 3 (ipykernel)",
   "language": "python",
   "name": "python3"
  },
  "language_info": {
   "codemirror_mode": {
    "name": "ipython",
    "version": 3
   },
   "file_extension": ".py",
   "mimetype": "text/x-python",
   "name": "python",
   "nbconvert_exporter": "python",
   "pygments_lexer": "ipython3",
   "version": "3.11.5"
  }
 },
 "nbformat": 4,
 "nbformat_minor": 5
}
