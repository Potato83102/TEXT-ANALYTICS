{
 "cells": [
  {
   "cell_type": "code",
   "execution_count": 1,
   "id": "c7dfd4ce",
   "metadata": {},
   "outputs": [
    {
     "name": "stdout",
     "output_type": "stream",
     "text": [
      "Requirement already satisfied: PyPDF2 in c:\\users\\norar\\anaconda3\\lib\\site-packages (3.0.1)\n",
      "Note: you may need to restart the kernel to use updated packages.\n"
     ]
    }
   ],
   "source": [
    "pip install PyPDF2"
   ]
  },
  {
   "cell_type": "code",
   "execution_count": 1,
   "id": "a44cb79a",
   "metadata": {},
   "outputs": [],
   "source": [
    "import PyPDF2"
   ]
  },
  {
   "cell_type": "code",
   "execution_count": 2,
   "id": "120426dd",
   "metadata": {},
   "outputs": [],
   "source": [
    "f = open('Business_Proposal.pdf','rb')"
   ]
  },
  {
   "cell_type": "code",
   "execution_count": 3,
   "id": "50d00066",
   "metadata": {},
   "outputs": [],
   "source": [
    "pdf_reader = PyPDF2.PdfReader(f)"
   ]
  },
  {
   "cell_type": "code",
   "execution_count": 4,
   "id": "8d6879c0",
   "metadata": {},
   "outputs": [
    {
     "data": {
      "text/plain": [
       "2"
      ]
     },
     "execution_count": 4,
     "metadata": {},
     "output_type": "execute_result"
    }
   ],
   "source": [
    "len(pdf_reader.pages)"
   ]
  },
  {
   "cell_type": "code",
   "execution_count": 5,
   "id": "e262e5bb",
   "metadata": {},
   "outputs": [],
   "source": [
    "page_one = pdf_reader.pages[0]"
   ]
  },
  {
   "cell_type": "code",
   "execution_count": 6,
   "id": "37ff8bc3",
   "metadata": {},
   "outputs": [],
   "source": [
    "page_one_text = page_one.extract_text()"
   ]
  },
  {
   "cell_type": "code",
   "execution_count": 7,
   "id": "458a351e",
   "metadata": {},
   "outputs": [
    {
     "data": {
      "text/plain": [
       "'Business Proposal  \\nThe Revolution is Coming  \\nLeverage agile frameworks to provide a robust synopsis for high level  \\noverviews. Iterative approaches to corporate strategy foster collaborative  \\nthinking to further the overall value proposition. Organically grow the  \\nholistic world view of disruptive innovation via workplace diversity and  \\nempowerment.  \\nBring to the table win -win survival strategies to ensure proactive  \\ndomination. At the end of the day, going forward, a new normal that has  \\nevolved from generation X is on the runway heading towards a streamlined  \\ncloud solution. User generated content in real -time will have multi ple \\ntouchpoints for offshoring.  \\nCapitalize on low hanging fruit to identify a ballpark value added activity to  \\nbeta test. Override the digital divide with additional clickthroughs from  \\nDevOps. Nanotechnology immersion along the information highway will  \\nclose the loop on focusing solely on the bottom line.  \\nPodcasting operational change management inside of workflows to  \\nestablish a framework. Taking seamless key performance indicators offline  \\nto maximise the long tail. Keeping your eye on the ball while perfo rming a  \\ndeep dive on the start -up mentality to derive convergence on crossplatform  \\nintegration.  \\nCollaboratively administrate empowered markets via plug -and-play \\nnetworks. Dynamically procrastinate B2C users after installed base  \\nbenefits. Dramatically visua lize customer directed convergence without  \\nrevolutionary ROI.  \\nEfficiently unleash cross -media information without cross -media value.  \\nQuickly maximize timely deliverables for real -time schemas. Dramatically  \\nmaintain clicks -and-mortar solutions without funct ional solutio ns. \\n  '"
      ]
     },
     "execution_count": 7,
     "metadata": {},
     "output_type": "execute_result"
    }
   ],
   "source": [
    "page_one_text"
   ]
  },
  {
   "cell_type": "code",
   "execution_count": 8,
   "id": "955829e8",
   "metadata": {},
   "outputs": [
    {
     "ename": "SyntaxError",
     "evalue": "invalid syntax (1338006908.py, line 2)",
     "output_type": "error",
     "traceback": [
      "\u001b[1;36m  Cell \u001b[1;32mIn[8], line 2\u001b[1;36m\u001b[0m\n\u001b[1;33m    pdf reader = PyPDF2.PdfReader(f)\u001b[0m\n\u001b[1;37m        ^\u001b[0m\n\u001b[1;31mSyntaxError\u001b[0m\u001b[1;31m:\u001b[0m invalid syntax\n"
     ]
    }
   ],
   "source": [
    "with open('Business_Proposal.pdf','rb') as f:\n",
    "    pdf reader = PyPDF2.PdfReader(f)\n",
    "    \n",
    "    total_pages = len(pdf_reader.pages)\n",
    "    \n",
    "    for page_number in range(total_pages):\n",
    "        page = pdf_reader.pages[page_number]\n",
    "        page_text = page.extract_text()\n",
    "        \n",
    "        print(f\"Page {page_number + 1}:\\n{page_text}\\n\")"
   ]
  },
  {
   "cell_type": "code",
   "execution_count": 9,
   "id": "95906bfc",
   "metadata": {},
   "outputs": [
    {
     "name": "stdout",
     "output_type": "stream",
     "text": [
      "Page 1:\n",
      "Business Proposal  \n",
      "The Revolution is Coming  \n",
      "Leverage agile frameworks to provide a robust synopsis for high level  \n",
      "overviews. Iterative approaches to corporate strategy foster collaborative  \n",
      "thinking to further the overall value proposition. Organically grow the  \n",
      "holistic world view of disruptive innovation via workplace diversity and  \n",
      "empowerment.  \n",
      "Bring to the table win -win survival strategies to ensure proactive  \n",
      "domination. At the end of the day, going forward, a new normal that has  \n",
      "evolved from generation X is on the runway heading towards a streamlined  \n",
      "cloud solution. User generated content in real -time will have multi ple \n",
      "touchpoints for offshoring.  \n",
      "Capitalize on low hanging fruit to identify a ballpark value added activity to  \n",
      "beta test. Override the digital divide with additional clickthroughs from  \n",
      "DevOps. Nanotechnology immersion along the information highway will  \n",
      "close the loop on focusing solely on the bottom line.  \n",
      "Podcasting operational change management inside of workflows to  \n",
      "establish a framework. Taking seamless key performance indicators offline  \n",
      "to maximise the long tail. Keeping your eye on the ball while perfo rming a  \n",
      "deep dive on the start -up mentality to derive convergence on crossplatform  \n",
      "integration.  \n",
      "Collaboratively administrate empowered markets via plug -and-play \n",
      "networks. Dynamically procrastinate B2C users after installed base  \n",
      "benefits. Dramatically visua lize customer directed convergence without  \n",
      "revolutionary ROI.  \n",
      "Efficiently unleash cross -media information without cross -media value.  \n",
      "Quickly maximize timely deliverables for real -time schemas. Dramatically  \n",
      "maintain clicks -and-mortar solutions without funct ional solutio ns. \n",
      "  \n",
      "\n",
      "Page 2:\n",
      "AUTHORS:  \n",
      "Amy Baker, Finance Chair, x345, abaker@ourcompany.com  \n",
      "Chris Donaldson, Accounting Dir., x621, cdonaldson@ourcompany.com  \n",
      "Erin Freeman, Sr. VP, x879, efreeman@ourcompany.com  \n",
      "\n"
     ]
    }
   ],
   "source": [
    "with open('Business_Proposal.pdf','rb') as f:\n",
    "    pdf_reader = PyPDF2.PdfReader(f)\n",
    "    \n",
    "    total_pages = len(pdf_reader.pages)\n",
    "    \n",
    "    for page_number in range(total_pages):\n",
    "        page = pdf_reader.pages[page_number]\n",
    "        page_text = page.extract_text()\n",
    "        \n",
    "        print(f\"Page {page_number + 1}:\\n{page_text}\\n\")"
   ]
  },
  {
   "cell_type": "code",
   "execution_count": null,
   "id": "3b59d761",
   "metadata": {},
   "outputs": [],
   "source": []
  }
 ],
 "metadata": {
  "kernelspec": {
   "display_name": "Python 3 (ipykernel)",
   "language": "python",
   "name": "python3"
  },
  "language_info": {
   "codemirror_mode": {
    "name": "ipython",
    "version": 3
   },
   "file_extension": ".py",
   "mimetype": "text/x-python",
   "name": "python",
   "nbconvert_exporter": "python",
   "pygments_lexer": "ipython3",
   "version": "3.11.5"
  }
 },
 "nbformat": 4,
 "nbformat_minor": 5
}
